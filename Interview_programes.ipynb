{
  "nbformat": 4,
  "nbformat_minor": 0,
  "metadata": {
    "colab": {
      "provenance": [],
      "authorship_tag": "ABX9TyPstSBDrgTwD875ysiJtNaP",
      "include_colab_link": true
    },
    "kernelspec": {
      "name": "python3",
      "display_name": "Python 3"
    },
    "language_info": {
      "name": "python"
    }
  },
  "cells": [
    {
      "cell_type": "markdown",
      "metadata": {
        "id": "view-in-github",
        "colab_type": "text"
      },
      "source": [
        "<a href=\"https://colab.research.google.com/github/Karthikraja131/Data-Science-AI-Engineer-Interview-/blob/main/Interview_programes.ipynb\" target=\"_parent\"><img src=\"https://colab.research.google.com/assets/colab-badge.svg\" alt=\"Open In Colab\"/></a>"
      ]
    },
    {
      "cell_type": "markdown",
      "source": [
        "1. Write a program to reverese a string."
      ],
      "metadata": {
        "id": "hWMMktLtby_o"
      }
    },
    {
      "cell_type": "code",
      "execution_count": null,
      "metadata": {
        "colab": {
          "base_uri": "https://localhost:8080/"
        },
        "id": "cIZw3ZrCbohg",
        "outputId": "e0d600ab-b19e-4dec-b060-afe2ea7bab61"
      },
      "outputs": [
        {
          "output_type": "stream",
          "name": "stdout",
          "text": [
            "Enter a String:  Program\n",
            "margorP\n"
          ]
        }
      ],
      "source": [
        "def reverse_string(string):\n",
        "  return string[::-1]\n",
        "\n",
        "string = input(\"Enter a String:  \")\n",
        "reverse_char = reverse_string(string)\n",
        "print(reverse_char)"
      ]
    },
    {
      "cell_type": "markdown",
      "source": [
        "2. Write a program to reverese a string without using any string built in reversal functions."
      ],
      "metadata": {
        "id": "nT95I28AcsMC"
      }
    },
    {
      "cell_type": "code",
      "source": [
        "def reverse_string(input_string):\n",
        "  reverse_str = \"\"\n",
        "  for char in input_string:\n",
        "    reverse_str= char + reverse_str\n",
        "  return reverse_str\n",
        "\n",
        "string =input(\"Enter a String:\")\n",
        "reverse_char = reverse_string(string)\n",
        "print(reverse_char)"
      ],
      "metadata": {
        "colab": {
          "base_uri": "https://localhost:8080/"
        },
        "id": "OryaCSO_cyhF",
        "outputId": "2001c22f-5e61-43f8-955d-ecc4bdffce89"
      },
      "execution_count": null,
      "outputs": [
        {
          "output_type": "stream",
          "name": "stdout",
          "text": [
            "Enter a String:Programme\n",
            "emmargorP\n"
          ]
        }
      ]
    },
    {
      "cell_type": "code",
      "source": [
        "def reverse_string(input_string):\n",
        "  reverse_str = \"\"\n",
        "  for char in input_string:\n",
        "    reverse_str= char + reverse_str\n",
        "  return reverse_str\n",
        "\n",
        "string = \"\"\"Enter a String:\n",
        "hi how this is Python Programme\n",
        "I wished to do Python and Artificial Intelligence  \"\"\"\n",
        "reverse_char = reverse_string(string)\n",
        "print(reverse_char)"
      ],
      "metadata": {
        "colab": {
          "base_uri": "https://localhost:8080/"
        },
        "id": "EKQqMY8Qm_X-",
        "outputId": "bdeaab65-c121-4c81-f3ae-a80e51d42f30"
      },
      "execution_count": null,
      "outputs": [
        {
          "output_type": "stream",
          "name": "stdout",
          "text": [
            "  ecnegilletnI laicifitrA dna nohtyP od ot dehsiw I\n",
            "emmargorP nohtyP si siht woh ih\n",
            ":gnirtS a retnE\n"
          ]
        }
      ]
    },
    {
      "cell_type": "markdown",
      "source": [
        "3. Write the Program to check the given string is Palindrome.\n",
        "\n",
        "* A palindrome is a word, phrase, number, or other sequence of characters that reads the same backward as forward. Examples include \"racecar,\" \"level,\" and \"madam.\"\n",
        "\n",
        "\n",
        "\n",
        "\n",
        "\n",
        "\n",
        "\n",
        "\n"
      ],
      "metadata": {
        "id": "ZzpZTsksfH4M"
      }
    },
    {
      "cell_type": "code",
      "source": [
        "def Is_Panlindrome(string):\n",
        "  if string == string[::-1]:\n",
        "    return \"The given string is Palindrome \"\n",
        "  else:\n",
        "    return \"The given string is not a Panlindrome\"\n",
        "\n",
        "string = input(\"Enter a String:  \")\n",
        "palindrome = Is_Panlindrome(string)\n",
        "print(palindrome)"
      ],
      "metadata": {
        "colab": {
          "base_uri": "https://localhost:8080/"
        },
        "id": "REe1ImptfXbl",
        "outputId": "74939b11-62a7-4f95-d0a5-99836a7311ab"
      },
      "execution_count": null,
      "outputs": [
        {
          "output_type": "stream",
          "name": "stdout",
          "text": [
            "Enter a String:  tenanet\n",
            "The given string is Palindrome \n"
          ]
        }
      ]
    },
    {
      "cell_type": "markdown",
      "source": [
        "4. 4. By Bool response"
      ],
      "metadata": {
        "id": "2VxrvWA7gP1B"
      }
    },
    {
      "cell_type": "code",
      "source": [
        "def Is_Panlindrome(string):\n",
        "  string = string.replace(\" \",\"\").lower()\n",
        "  return string == string[::-1]\n",
        "\n",
        "\n",
        "string = input(\"Enter a String:  \")\n",
        "palindrome = Is_Panlindrome(string)\n",
        "print(palindrome)"
      ],
      "metadata": {
        "colab": {
          "base_uri": "https://localhost:8080/"
        },
        "id": "BcuiYQUMgPBS",
        "outputId": "a3320118-674c-4555-8aab-5a47df2c8cb4"
      },
      "execution_count": null,
      "outputs": [
        {
          "output_type": "stream",
          "name": "stdout",
          "text": [
            "Enter a String:  level\n",
            "True\n"
          ]
        }
      ]
    },
    {
      "cell_type": "markdown",
      "source": [
        "5.Write a program to find the largest number in the given list"
      ],
      "metadata": {
        "id": "pL7ooGpCl5_s"
      }
    },
    {
      "cell_type": "code",
      "source": [
        "def find_largest_number(given_list):\n",
        "  sorted_list = sorted(given_list,reverse=True)\n",
        "  return sorted_list[0]\n",
        "\n",
        "uset_value = (input((\"Enter a Number:  \"))).split(\",\")\n",
        "given_list=list(uset_value)\n",
        "given_list=[int(x) for x in uset_value]\n",
        "print(given_list)\n",
        "find_largest_number(given_list)"
      ],
      "metadata": {
        "id": "XaA0F_O8mCiB",
        "colab": {
          "base_uri": "https://localhost:8080/"
        },
        "collapsed": true,
        "outputId": "9a0fd083-267e-4d4f-b9b6-1581b04351e4"
      },
      "execution_count": null,
      "outputs": [
        {
          "output_type": "stream",
          "name": "stdout",
          "text": [
            "Enter a Number:  10,20,30,52,10,1,20,100\n",
            "[10, 20, 30, 52, 10, 1, 20, 100]\n"
          ]
        },
        {
          "output_type": "execute_result",
          "data": {
            "text/plain": [
              "100"
            ]
          },
          "metadata": {},
          "execution_count": 17
        }
      ]
    },
    {
      "cell_type": "code",
      "source": [
        "def find_largest_number(given_list):\n",
        "  given_list.sort()\n",
        "  return given_list[-1]\n",
        "\n",
        "user_value = (input((\"Enter only nuber with seperation of comma:  \"))).split(\",\")\n",
        "given_list=[int(x) for x in user_value]\n",
        "print(given_list)\n",
        "find_largest_number(given_list)"
      ],
      "metadata": {
        "colab": {
          "base_uri": "https://localhost:8080/"
        },
        "id": "frJnvzOwRZ36",
        "outputId": "1a608950-03a2-41f9-8213-5356b529ef62"
      },
      "execution_count": null,
      "outputs": [
        {
          "output_type": "stream",
          "name": "stdout",
          "text": [
            "Enter only nuber with seperation of comma:  10,20,30,52,10,1,20,15\n",
            "[10, 20, 30, 52, 10, 1, 20, 15]\n"
          ]
        },
        {
          "output_type": "execute_result",
          "data": {
            "text/plain": [
              "52"
            ]
          },
          "metadata": {},
          "execution_count": 31
        }
      ]
    },
    {
      "cell_type": "code",
      "source": [
        "def find_largest_number(given_list):\n",
        "  if len(given_list)<1:\n",
        "    return None\n",
        "\n",
        "  large_number =given_list[0]\n",
        "  for element in given_list:\n",
        "    if element > large_number:\n",
        "      large_number = element\n",
        "  return large_number\n",
        "\n",
        "user_value = (input((\"Enter only nuber with seperation of comma:  \"))).split(\",\")\n",
        "given_list=[int(x) for x in user_value]\n",
        "print(given_list)\n",
        "find_largest_number(given_list)"
      ],
      "metadata": {
        "colab": {
          "base_uri": "https://localhost:8080/"
        },
        "id": "fdgEjyWorxDS",
        "outputId": "1ab7d902-98f8-4a1c-b45c-476bda8c9800"
      },
      "execution_count": null,
      "outputs": [
        {
          "output_type": "stream",
          "name": "stdout",
          "text": [
            "Enter only nuber with seperation of comma:  10,20,30,52,10,1,20,15\n",
            "[10, 20, 30, 52, 10, 1, 20, 15]\n"
          ]
        },
        {
          "output_type": "execute_result",
          "data": {
            "text/plain": [
              "52"
            ]
          },
          "metadata": {},
          "execution_count": 39
        }
      ]
    },
    {
      "cell_type": "markdown",
      "source": [
        "6. Implement a function to count occurrence of each element in a list."
      ],
      "metadata": {
        "id": "ceYtzem2wPrw"
      }
    },
    {
      "cell_type": "code",
      "source": [
        "def count_occurrences(lst):\n",
        "  occurences={}\n",
        "  for element in lst:\n",
        "    if element in occurences:\n",
        "      occurences[element] +=1\n",
        "    else:\n",
        "      occurences[element] = 1\n",
        "  return occurences\n",
        "\n",
        "lst = [1,1,1,2,2,3,5,4,7,7]\n",
        "print(count_occurrences(lst))"
      ],
      "metadata": {
        "colab": {
          "base_uri": "https://localhost:8080/"
        },
        "id": "E5THYd28wlmf",
        "outputId": "8e7c8a5f-6719-4811-b08b-040b14288677"
      },
      "execution_count": 3,
      "outputs": [
        {
          "output_type": "stream",
          "name": "stdout",
          "text": [
            "{1: 3, 2: 2, 3: 1, 5: 1, 4: 1, 7: 2}\n"
          ]
        }
      ]
    },
    {
      "cell_type": "markdown",
      "source": [
        "7. Write a Python Program to find the second largest number in a list."
      ],
      "metadata": {
        "id": "EEAA2ACdVoYt"
      }
    },
    {
      "cell_type": "code",
      "source": [
        "def second_largest_number(lst):\n",
        "  if len(lst) < 2:\n",
        "    return None\n",
        "\n",
        "  first_larger = max(lst[0], lst[1])\n",
        "  second_larger = min(lst[0], lst[1])\n",
        "\n",
        "  for x in range(2, len(lst)):\n",
        "    if lst[x] > first_larger:\n",
        "      second_larger = first_larger\n",
        "      first_larger = lst[x]\n",
        "    elif lst[x] > second_larger and lst[x] != first_larger:\n",
        "      second_larger = lst[x]\n",
        "\n",
        "  return second_larger\n",
        "\n",
        "lst = [20, 10, 8, 12, 5, 3, 1, 20, 15]\n",
        "print(second_largest_number(lst))"
      ],
      "metadata": {
        "colab": {
          "base_uri": "https://localhost:8080/"
        },
        "id": "R0tVM6ZUY2fq",
        "outputId": "4b1ff436-b6e5-4874-a595-d61d378682a4"
      },
      "execution_count": 66,
      "outputs": [
        {
          "output_type": "stream",
          "name": "stdout",
          "text": [
            "15\n"
          ]
        }
      ]
    },
    {
      "cell_type": "code",
      "source": [],
      "metadata": {
        "colab": {
          "base_uri": "https://localhost:8080/"
        },
        "id": "lDfgx7N-aKy0",
        "outputId": "a6ffdd75-31d8-4e67-aa32-6f2a146c2277"
      },
      "execution_count": 19,
      "outputs": [
        {
          "output_type": "stream",
          "name": "stdout",
          "text": [
            "10\n",
            "20\n",
            "30\n",
            "40\n",
            "50\n",
            "60\n",
            "70\n",
            "80\n"
          ]
        }
      ]
    },
    {
      "cell_type": "code",
      "source": [],
      "metadata": {
        "id": "DvwQiexqcxzH"
      },
      "execution_count": null,
      "outputs": []
    }
  ]
}