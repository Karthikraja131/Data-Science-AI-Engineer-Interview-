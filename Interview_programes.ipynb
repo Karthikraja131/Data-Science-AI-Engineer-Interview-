{
  "nbformat": 4,
  "nbformat_minor": 0,
  "metadata": {
    "colab": {
      "provenance": [],
      "authorship_tag": "ABX9TyMiC4oI5hxJiSnRueLAPhzl",
      "include_colab_link": true
    },
    "kernelspec": {
      "name": "python3",
      "display_name": "Python 3"
    },
    "language_info": {
      "name": "python"
    }
  },
  "cells": [
    {
      "cell_type": "markdown",
      "metadata": {
        "id": "view-in-github",
        "colab_type": "text"
      },
      "source": [
        "<a href=\"https://colab.research.google.com/github/Karthikraja131/Data-Science-AI-Engineer-Interview-/blob/main/Interview_programes.ipynb\" target=\"_parent\"><img src=\"https://colab.research.google.com/assets/colab-badge.svg\" alt=\"Open In Colab\"/></a>"
      ]
    },
    {
      "cell_type": "markdown",
      "source": [
        "1. Write a program to reverese a string."
      ],
      "metadata": {
        "id": "hWMMktLtby_o"
      }
    },
    {
      "cell_type": "code",
      "execution_count": 6,
      "metadata": {
        "colab": {
          "base_uri": "https://localhost:8080/"
        },
        "id": "cIZw3ZrCbohg",
        "outputId": "e0d600ab-b19e-4dec-b060-afe2ea7bab61"
      },
      "outputs": [
        {
          "output_type": "stream",
          "name": "stdout",
          "text": [
            "Enter a String:  Program\n",
            "margorP\n"
          ]
        }
      ],
      "source": [
        "def reverse_string(string):\n",
        "  return string[::-1]\n",
        "\n",
        "string = input(\"Enter a String:  \")\n",
        "reverse_char = reverse_string(string)\n",
        "print(reverse_char)"
      ]
    },
    {
      "cell_type": "markdown",
      "source": [
        "2. Write a program to reverese a string using for loop"
      ],
      "metadata": {
        "id": "nT95I28AcsMC"
      }
    },
    {
      "cell_type": "code",
      "source": [
        "def reverse_string(string):\n",
        "  reverse_str = \"\"\n",
        "  for char in string:\n",
        "    reverse_str= char + reverse_str\n",
        "  return reverse_str\n",
        "\n",
        "string = input(\"Enter a String:  \")\n",
        "reverse_char = reverse_string(string)\n",
        "print(reverse_char)"
      ],
      "metadata": {
        "colab": {
          "base_uri": "https://localhost:8080/"
        },
        "id": "OryaCSO_cyhF",
        "outputId": "45273a51-05af-4690-a372-09adeeb4973e"
      },
      "execution_count": 7,
      "outputs": [
        {
          "output_type": "stream",
          "name": "stdout",
          "text": [
            "Enter a String:  Program\n",
            "margorP\n"
          ]
        }
      ]
    },
    {
      "cell_type": "markdown",
      "source": [
        "3. Write the Program to check the given string is Palindrome."
      ],
      "metadata": {
        "id": "ZzpZTsksfH4M"
      }
    },
    {
      "cell_type": "code",
      "source": [
        "def Is_Panlindrome(string):\n",
        "  if string == string[::-1]:\n",
        "    return \"The given string is Palindrome \"\n",
        "  else:\n",
        "    return \"The given string is not a Panlindrome\"\n",
        "\n",
        "string = input(\"Enter a String:  \")\n",
        "palindrome = Is_Panlindrome(string)\n",
        "print(palindrome)"
      ],
      "metadata": {
        "colab": {
          "base_uri": "https://localhost:8080/"
        },
        "id": "REe1ImptfXbl",
        "outputId": "74939b11-62a7-4f95-d0a5-99836a7311ab"
      },
      "execution_count": 11,
      "outputs": [
        {
          "output_type": "stream",
          "name": "stdout",
          "text": [
            "Enter a String:  tenanet\n",
            "The given string is Palindrome \n"
          ]
        }
      ]
    },
    {
      "cell_type": "markdown",
      "source": [
        "4. 4. By Bool response"
      ],
      "metadata": {
        "id": "2VxrvWA7gP1B"
      }
    },
    {
      "cell_type": "code",
      "source": [
        "def Is_Panlindrome(string):\n",
        "  string = string.replace(\" \", \"\").lower()\n",
        "  return string == string[::-1]\n",
        "\n",
        "\n",
        "string = input(\"Enter a String:  \")\n",
        "palindrome = Is_Panlindrome(string)\n",
        "print(palindrome)"
      ],
      "metadata": {
        "colab": {
          "base_uri": "https://localhost:8080/"
        },
        "id": "BcuiYQUMgPBS",
        "outputId": "16e3ab8c-4ec7-4b76-83b9-c7e06a6fbf14"
      },
      "execution_count": 16,
      "outputs": [
        {
          "output_type": "stream",
          "name": "stdout",
          "text": [
            "Enter a String:  Malayalam\n",
            "True\n"
          ]
        }
      ]
    },
    {
      "cell_type": "markdown",
      "source": [
        "5.Write a program to find the largest number in the given list"
      ],
      "metadata": {
        "id": "pL7ooGpCl5_s"
      }
    },
    {
      "cell_type": "code",
      "source": [
        "def find_largest_number(given_list):\n",
        "  given_list = [int(x) for x in given_list]\n",
        "  given_list.sort()\n",
        "  print(given_list)\n",
        "  large_element= given_list[-1]\n",
        "  return large_element\n",
        "\n",
        "given_list = (input(\"Enter a numbers with comma seperated:\"))\n",
        "given_list=list(given_list.split(\",\"))\n",
        "print(given_list)\n",
        "large_number=find_largest_number(given_list)\n",
        "print(large_number)"
      ],
      "metadata": {
        "colab": {
          "base_uri": "https://localhost:8080/"
        },
        "id": "XaA0F_O8mCiB",
        "outputId": "626a27e3-8167-412d-c8d2-8068751d7d09"
      },
      "execution_count": 13,
      "outputs": [
        {
          "output_type": "stream",
          "name": "stdout",
          "text": [
            "Enter a numbers with comma seperated:1,2,100,30,50\n",
            "['1', '2', '100', '30', '50']\n",
            "[1, 2, 30, 50, 100]\n",
            "100\n"
          ]
        }
      ]
    },
    {
      "cell_type": "code",
      "source": [],
      "metadata": {
        "id": "KNkHyxhlqSb_"
      },
      "execution_count": null,
      "outputs": []
    }
  ]
}